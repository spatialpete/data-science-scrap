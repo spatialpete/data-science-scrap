{
 "cells": [
  {
   "cell_type": "code",
   "execution_count": null,
   "metadata": {},
   "outputs": [],
   "source": [
    "import os\n",
    "import datetime as dt\n",
    "import pandas as pd\n",
    "#from arcgis.gis import GIS\n",
    "import numpy as np\n",
    "import seaborn as sns\n",
    "import json\n",
    "import requests\n",
    "import matplotlib.pyplot as plt\n",
    "\n",
    "import sklearn\n",
    "from sklearn import cluster\n",
    "from sklearn.preprocessing import LabelEncoder\n",
    "from sklearn.cluster import KMeans\n",
    "\n",
    "from arcgis import GIS, features, GeoAccessor, GeoSeriesAccessor, geometry\n",
    "from arcgis.features import SpatialDataFrame\n",
    "import arcgis\n",
    "\n",
    "gis = GIS('PRO')\n",
    "map = gis.map('Raleigh, NC')"
   ]
  },
  {
   "cell_type": "code",
   "execution_count": null,
   "metadata": {},
   "outputs": [],
   "source": [
    "# Get Data from Cityworks EURL\n",
    "# Can also be used for an ArcGIS REST endpoint\n",
    "url = 'https://<insert your Cityworks or AGOL Feature Service>/FeatureServer/2/query?f=json&returnGeometry=true&spatialRel=esriSpatialRelIntersects&maxAllowableOffset=38&inSR=102100&outFields=*&outSR=102100'\n",
    "\n",
    "resp = requests.get(url=url)\n",
    "data = resp.json()\n",
    "dicts = [{k:v} for k,v in data.items()]\n",
    "# List Type, but it's a list of dictionaries\n",
    "type(data['features'])\n",
    "PRCRCityworks = pd.DataFrame(data['features'])\n",
    "print(PRCRCityworks.shape)\n",
    "# Converting List of Dictionaries to a pandas dataframe\n",
    "PRCR2 = pd.DataFrame(d['attributes'] for d in data['features'])\n",
    "#print(PRCR2)\n",
    "PRCR2.head()"
   ]
  },
  {
   "cell_type": "code",
   "execution_count": null,
   "metadata": {},
   "outputs": [],
   "source": [
    "# Using LabelEncoder to add a column for Description as a number\n",
    "labelencoder = LabelEncoder()\n",
    "PRCR2['Description_Cat'] = labelencoder.fit_transform(PRCR2['Description'])\n",
    "PRCR2.head()"
   ]
  },
  {
   "cell_type": "code",
   "execution_count": null,
   "metadata": {},
   "outputs": [],
   "source": [
    "# If you want to trim the columns, you can select out the ones you need this way\n",
    "# but, it may be better to use \"df.loc[:,['A','B']]\" when conducting the analysis\n",
    "# this will select out only those columns for analysis but leave the others\n",
    "# selecting only cost and description columns\n",
    "df1 = PRCR2[['Description','Description_Cat','WoCost','WoEquipCost','WoLaborCost','WoMatCost']]\n",
    "df1.head()"
   ]
  },
  {
   "cell_type": "code",
   "execution_count": null,
   "metadata": {},
   "outputs": [],
   "source": [
    "# data cleanup\n",
    "dfnozero = PRCR2\n",
    "\n",
    "dfnozero.loc[~(dfnozero==0).all(axis=1)]\n",
    "dfnozero.loc[(dfnozero!=0).any(1)]\n",
    "# remove zeros by column\n",
    "dfnozero= dfnozero[dfnozero['WoCost'] != 0]\n",
    "dfnozero= dfnozero[dfnozero['WoMatCost'] != 0]\n",
    "dfnozero= dfnozero[dfnozero['WoLaborCost'] != 0]\n",
    "dfnozero= dfnozero[dfnozero['WoEquipCost'] != 0]\n",
    "print(dfnozero.shape)\n",
    "dfnozero.head()"
   ]
  },
  {
   "cell_type": "code",
   "execution_count": null,
   "metadata": {},
   "outputs": [],
   "source": [
    "%matplotlib inline\n",
    "import seaborn as sns; sns.set()\n",
    "# use dataframe.loc to analyze only those columns\n",
    "sns_plot = sns.pairplot(dfnozero.loc[:,['Description','WoEquipCost','WoLaborCost']], hue='Description', height=5);\n",
    "sns_plot.savefig(\"c:/temp/output_LabMat_Pair.png\")\n",
    "# errors about \"Data must have variance to compute a kernel density estimate\" are common\n",
    "# but it should still eventually plot, may take some time depending on how much data"
   ]
  },
  {
   "cell_type": "code",
   "execution_count": null,
   "metadata": {},
   "outputs": [],
   "source": [
    "X_PRCR = dfnozero.loc[:,['WoEquipCost','WoLaborCost']]\n",
    "\n",
    "# here is an excellent writeup on what PCA is\n",
    "# https://jakevdp.github.io/PythonDataScienceHandbook/05.09-principal-component-analysis.html\n",
    "# in essence, it helps you reduce the number of variables\n",
    "\n",
    "from sklearn.decomposition import PCA\n",
    "model = PCA(n_components=2)            \n",
    "model.fit(X_PRCR)                      \n",
    "X_2D = model.transform(X_PRCR)         \n",
    "\n",
    "dfnozero['PCA1'] = X_2D[:, 0]\n",
    "dfnozero['PCA2'] = X_2D[:, 1]\n",
    "sns.lmplot(\"PCA1\", \"PCA2\", hue='Description', data=dfnozero, fit_reg=False);\n",
    "# in ArcGIS Pro, you may get this message: <seaborn.axisgrid.FacetGrid object at 0x000001D6DB6BF278>\n",
    "# if so, download anaconda and run this from a jupyter notebook directly instead of within Pro."
   ]
  },
  {
   "cell_type": "code",
   "execution_count": null,
   "metadata": {},
   "outputs": [],
   "source": [
    "# K-means analysis, unsupervised clustering\n",
    "# similar to unsupervised clustering on a raster, but instead of grouping pixel values\n",
    "# it is grouping your tabular data based its values\n",
    "\n",
    "#dropping non-numeric columns\n",
    "dfkmeans = dfnozero[['Description_Cat','WoCost','WoEquipCost','WoLaborCost','WoMatCost']]\n",
    "\n",
    "# Convert DataFrame to matrix\n",
    "mat = dfkmeans.values\n",
    "# requesting 3 clusters\n",
    "km = sklearn.cluster.KMeans(n_clusters=3)\n",
    "km.fit(mat)\n",
    "# Get cluster assignment labels\n",
    "labels = km.labels_\n",
    "# Format results as a DataFrame\n",
    "results = pd.DataFrame([dfkmeans.index,labels]).T\n",
    "# the results go into their own dataframe that needs to be merged with the main one later, so we know\n",
    "# which cluster that particular data point belongs to.\n",
    "results"
   ]
  },
  {
   "cell_type": "code",
   "execution_count": null,
   "metadata": {},
   "outputs": [],
   "source": [
    "kmeans = KMeans(n_clusters=3).fit(dfkmeans)\n",
    "centroids = kmeans.cluster_centers_\n",
    "print(centroids)\n",
    "\n",
    "plt.scatter(dfkmeans['WoEquipCost'], dfkmeans['WoLaborCost'], c= kmeans.labels_.astype(float), s=50, alpha=0.5)\n",
    "plt.scatter(centroids[:, 0], centroids[:, 1], c='red', s=50)\n",
    "# plt.show() doesn't seem to work in ArcGIS Pro\n",
    "#plt.show()\n",
    "# if needed, you can save the figure https://matplotlib.org/api/_as_gen/matplotlib.pyplot.savefig.html"
   ]
  },
  {
   "cell_type": "code",
   "execution_count": null,
   "metadata": {},
   "outputs": [],
   "source": [
    "print(dfnozero.shape)\n",
    "dfnozero.head()"
   ]
  },
  {
   "cell_type": "code",
   "execution_count": null,
   "metadata": {},
   "outputs": [],
   "source": [
    "# join the cluster results to the dataframe\n",
    "mergedDf = dfnozero.merge(results, left_index=True, right_on=0)\n",
    "mergedDf"
   ]
  },
  {
   "cell_type": "code",
   "execution_count": null,
   "metadata": {},
   "outputs": [],
   "source": [
    "mergedDf.rename(columns = {'WOXCoordinate':'x','WOYCoordinate':'y'}, inplace = True)\n",
    "mergedDf.describe()"
   ]
  },
  {
   "cell_type": "code",
   "execution_count": null,
   "metadata": {},
   "outputs": [],
   "source": [
    "mergedDf['cluster'] =  'cluster'+mergedDf[1].apply(str)\n",
    "mergedDf['cluster']"
   ]
  },
  {
   "cell_type": "code",
   "execution_count": null,
   "metadata": {},
   "outputs": [],
   "source": [
    "# In theory this GeoAccessor should plot the points on a map that will appear inside this pandas notebook\n",
    "# I couldn't get it working despite having something similar working on a similar dataset.\n",
    "# plot from x, y\n",
    "#mergedDf.rename(columns = {'WOXCoordinate':'x','WOYCoordinate':'y'}, inplace = True)\n",
    "#mergedDf = GeoAccessor.from_xy(mergedDf,'WOXCoordinate','WOYCoordinate',sr=2264)\n",
    "#mergedDf = GeoAccessor.from_xy(mergedDf,'x','y',sr=2264)\n",
    "\n",
    "# drop the corrupt shape column?\n",
    "#mergedDf.drop(columns=['SHAPE'])\n",
    "\n",
    "#from shapely.geometry import Point\n",
    "# combine lat and lon column to a shapely Point() object\n",
    "#mergedDf['geometry'] = df.apply(lambda x: Point((float(x.lon), float(x.lat))), axis=1)\n",
    "\n",
    "#sdf = pd.DataFrame.spatial.from_xy(df=mergedDf, y_column='y', x_column='x', sr=2264)\n",
    "#https://community.esri.com/thread/223454-arcgis-python-api-set-geometry-column-of-spatially-enabled-data-frame\n",
    "\n",
    "#mergedDf['SHAPE'] = mergedDf.apply(lambda row : arcgis.geometry.Geometry({'x': row['x'], 'y': row['y']}), axis=1 )\n",
    "#sdf = SpatialDataFrame(mergedDf)\n",
    "#layer = gis.content.import_data(sdf, title='My Data')\n",
    "\n",
    "#sdf = pd.DataFrame.spatial.from_xy(df=mergedDf, y_column='y', x_column='x', sr=2264)\n",
    "\n",
    "# import the data frame into a GIS Layer\n",
    "CityworksPoints = gis.content.import_data(mergedDf)"
   ]
  },
  {
   "cell_type": "code",
   "execution_count": null,
   "metadata": {},
   "outputs": [],
   "source": [
    "# dropping columns with numeric headers that aren't needed anymore\n",
    "# numeric headers cause issues when importing a CSV with XYTableToPoint\n",
    "mergedDf.drop(columns=[0,1])\n",
    "# converting dataframe to csv\n",
    "mergedDf.to_csv('C:/temp/DataFrame.csv',index=False)"
   ]
  },
  {
   "cell_type": "code",
   "execution_count": null,
   "metadata": {},
   "outputs": [],
   "source": [
    "# converting csv to feature class\n",
    "\n",
    "import arcpy\n",
    "\n",
    "arcpy.env.workspace = r\"c:\\temp\\Scratch.gdb\"\n",
    "arcpy.env.overwriteOutput = True\n",
    "\n",
    "arcpy.management.XYTableToPoint('C:/temp/DataFrame.csv', 'cityworks', \n",
    "                                \"WOXCoordinate\", \"WOYCoordinate\",\"\", arcpy.SpatialReference(2264))\n",
    "                                #\"x\", \"y\",\"\", arcpy.SpatialReference(2264))\n"
   ]
  },
  {
   "cell_type": "code",
   "execution_count": null,
   "metadata": {},
   "outputs": [],
   "source": [
    "# add layer to Map in my current project (to be used within ArcGIS Pro)\n",
    "aprx = arcpy.mp.ArcGISProject(\"CURRENT\")\n",
    "print(aprx.filePath)\n",
    "m = aprx.listMaps(\"Map\")[0]\n",
    "m.addDataFromPath(r\"c:\\temp\\Scratch.gdb\\cityworks\")\n",
    "\n",
    "# https://pro.arcgis.com/en/pro-app/arcpy/mapping/symbology-class.htm\n",
    "# https://pro.arcgis.com/en/pro-app/arcpy/mapping/uniquevaluerenderer-class.htm\n",
    "# changing layer symbology\n",
    "for lyr in m.listLayers():\n",
    "    print(lyr)\n",
    "    if lyr.isFeatureLayer:\n",
    "        sym = lyr.symbology\n",
    "        if hasattr(sym, 'renderer'):\n",
    "            if sym.renderer.type == 'SimpleRenderer':\n",
    "                sym.updateRenderer('UniqueValueRenderer')\n",
    "                sym.renderer.fields = ['cluster']\n",
    "            for grp in sym.renderer.groups:\n",
    "                for itm in grp.items:\n",
    "                    transVal = itm.values[0][0] #Grab the first \"percent\" value in the list of potential values\n",
    "                    print(transVal)\n",
    "                    itm.symbol.color = {'RGB': [255, 0, 0, int(transVal)*50]}\n",
    "                    itm.label = 'cluster ' + str(transVal)\n",
    "        \n",
    "            lyr.symbology = sym"
   ]
  },
  {
   "cell_type": "code",
   "execution_count": null,
   "metadata": {},
   "outputs": [],
   "source": [
    "# add the layer to the map\n",
    "# this is old, and was to be used with the GeoAccessor bit above. I'm leaving it in for reference.\n",
    "# map.add_layer(CityworksPoints)\n",
    "\n",
    "# plot the map\n",
    "# mergedDf.spatial.plot(map_widget=map,\n",
    "        # renderer_type='u',\n",
    "        # col='cluster')\n",
    "\n",
    "#Display the map\n",
    "# map\n",
    " "
   ]
  },
  {
   "cell_type": "code",
   "execution_count": null,
   "metadata": {},
   "outputs": [],
   "source": [
    "# one way of doing a linear regression\n",
    "from sklearn import linear_model\n",
    "\n",
    "reg = linear_model.LinearRegression()\n",
    "reg.fit(mergedDf[['WoLaborCost', 'WoMatCost']], mergedDf['WoEquipCost'])"
   ]
  },
  {
   "cell_type": "code",
   "execution_count": null,
   "metadata": {},
   "outputs": [],
   "source": [
    "reg.coef_"
   ]
  },
  {
   "cell_type": "code",
   "execution_count": null,
   "metadata": {},
   "outputs": [],
   "source": [
    "# another way of doing a linear regression and plotting the results\n",
    "# this is a predictive analysis, just to show how an unsupervised technique \n",
    "# can be used as input into other analyses methods later\n",
    "# great write up here:\n",
    "# https://towardsdatascience.com/simple-and-multiple-linear-regression-with-python-c9ab422ec29c\n",
    "\n",
    "df_lowcost = mergedDf[mergedDf['cluster'] == 'cluster0']\n",
    "df_highcost = mergedDf[mergedDf['cluster'] == 'cluster2']\n",
    "\n",
    "# regression plot using seaborn\n",
    "fig = plt.figure(figsize=(10, 7))\n",
    "sns.regplot(x=df_lowcost.WoLaborCost, y=df_lowcost.WoEquipCost, color='blue', marker='+')\n",
    "sns.regplot(x=df_highcost.WoLaborCost, y=df_highcost.WoEquipCost, color='magenta', marker='+')\n",
    "\n",
    "# Legend, title and labels.\n",
    "plt.legend(labels=['Low Cost', 'High Cost'])\n",
    "plt.title('Relationship between Low and High Cost Work Order Clusters', size=24)\n",
    "plt.xlabel('Labor Cost', size=18)\n",
    "plt.ylabel('Equipment Cost', size=18);\n",
    "\n",
    "plt.savefig(\"c:/temp/output_LabMat_Regression.png\")"
   ]
  }
 ],
 "metadata": {
  "kernelspec": {
   "display_name": "Python 3",
   "language": "python",
   "name": "python3"
  },
  "language_info": {
   "codemirror_mode": {
    "name": "ipython",
    "version": 3
   },
   "file_extension": ".py",
   "mimetype": "text/x-python",
   "name": "python",
   "nbconvert_exporter": "python",
   "pygments_lexer": "ipython3",
   "version": "3.7.1"
  }
 },
 "nbformat": 4,
 "nbformat_minor": 2
}
